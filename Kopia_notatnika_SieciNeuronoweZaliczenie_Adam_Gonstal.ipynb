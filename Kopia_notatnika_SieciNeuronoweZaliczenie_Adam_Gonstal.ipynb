{
  "cells": [
    {
      "cell_type": "markdown",
      "metadata": {
        "id": "EvRlQFInkG78"
      },
      "source": [
        "Run calculator by running cell below."
      ]
    },
    {
      "cell_type": "code",
      "execution_count": null,
      "metadata": {
        "id": "tL2udX2YKDdM"
      },
      "outputs": [],
      "source": [
        "#SOURCE CODE OF THE NN\n",
        "import pandas as pd\n",
        "import tensorflow as tf\n",
        "from tensorflow import keras\n",
        "import numpy as np\n",
        "from sklearn.preprocessing import OrdinalEncoder\n",
        "# df = pd.read_csv(\"numbers_1.txt\",delimiter=\",\", header=None)\n",
        "# df"
      ]
    },
    {
      "cell_type": "code",
      "execution_count": null,
      "metadata": {
        "colab": {
          "base_uri": "https://localhost:8080/",
          "height": 287
        },
        "id": "5NeewqGUF117",
        "outputId": "5f4ef870-17aa-4e0b-b4ec-98c4fa0f0c71"
      },
      "outputs": [
        {
          "output_type": "stream",
          "name": "stdout",
          "text": [
            "importing kerass\n",
            "importing numpy\n",
            "Remember to have model.json and model.h5 in the same directiory as the code otherwise it work\n"
          ]
        },
        {
          "output_type": "error",
          "ename": "FileNotFoundError",
          "evalue": "ignored",
          "traceback": [
            "\u001b[0;31m---------------------------------------------------------------------------\u001b[0m",
            "\u001b[0;31mFileNotFoundError\u001b[0m                         Traceback (most recent call last)",
            "\u001b[0;32m<ipython-input-3-4b465091cbc1>\u001b[0m in \u001b[0;36m<module>\u001b[0;34m\u001b[0m\n\u001b[1;32m     44\u001b[0m \u001b[0mprint\u001b[0m\u001b[0;34m(\u001b[0m\u001b[0;34m'Remember to have model.json and model.h5 in the same directiory as the code otherwise it work'\u001b[0m\u001b[0;34m)\u001b[0m\u001b[0;34m\u001b[0m\u001b[0;34m\u001b[0m\u001b[0m\n\u001b[1;32m     45\u001b[0m \u001b[0;31m# load json and create model\u001b[0m\u001b[0;34m\u001b[0m\u001b[0;34m\u001b[0m\u001b[0;34m\u001b[0m\u001b[0m\n\u001b[0;32m---> 46\u001b[0;31m \u001b[0mjson_file\u001b[0m \u001b[0;34m=\u001b[0m \u001b[0mopen\u001b[0m\u001b[0;34m(\u001b[0m\u001b[0;34m'model.json'\u001b[0m\u001b[0;34m,\u001b[0m \u001b[0;34m'r'\u001b[0m\u001b[0;34m)\u001b[0m\u001b[0;34m\u001b[0m\u001b[0;34m\u001b[0m\u001b[0m\n\u001b[0m\u001b[1;32m     47\u001b[0m \u001b[0mloaded_model_json\u001b[0m \u001b[0;34m=\u001b[0m \u001b[0mjson_file\u001b[0m\u001b[0;34m.\u001b[0m\u001b[0mread\u001b[0m\u001b[0;34m(\u001b[0m\u001b[0;34m)\u001b[0m\u001b[0;34m\u001b[0m\u001b[0;34m\u001b[0m\u001b[0m\n\u001b[1;32m     48\u001b[0m \u001b[0mjson_file\u001b[0m\u001b[0;34m.\u001b[0m\u001b[0mclose\u001b[0m\u001b[0;34m(\u001b[0m\u001b[0;34m)\u001b[0m\u001b[0;34m\u001b[0m\u001b[0;34m\u001b[0m\u001b[0m\n",
            "\u001b[0;31mFileNotFoundError\u001b[0m: [Errno 2] No such file or directory: 'model.json'"
          ]
        }
      ],
      "source": [
        "import itertools\n",
        "import random\n",
        "print(\"importing kerass\")\n",
        "from tensorflow.keras.models import model_from_json\n",
        "import pandas as pd\n",
        "print(\"importing numpy\")\n",
        "\n",
        "#ignore this part\n",
        "a=['zero ','one ', 'two ','three ','four ','five ','six ','seven ','eight ','nine ']\n",
        "b=['plus ','minus ','multiply ','divide by ' ]\n",
        "c=a\n",
        "k=[0,1,2,3,4,5,6,7,8,9]\n",
        "l=[0,1,2,3]\n",
        "m=k\n",
        "sum1=[]\n",
        "numbers1=[]\n",
        "for i in range(0,1):\n",
        "  for r in itertools.product(a,b,c):\n",
        "    if not (r[1]=='divide by ' and r[2]=='zero '):\n",
        "      sum1.append(r[0]+r[1]+r[2]+'is equal to')\n",
        "  for r in itertools.product(k,l,m): \n",
        "    value1=r[0]\n",
        "    value2=r[1]\n",
        "    if value2==0:\n",
        "      operation=1\n",
        "      value3=r[2]\n",
        "      numbers1.append(value1+value3*(operation))\n",
        "    elif value2==1:\n",
        "      operation=-1\n",
        "      value3=r[2]\n",
        "      numbers1.append(value1+value3*(operation))\n",
        "    elif value2==2:\n",
        "      operation=1\n",
        "      value3=r[2]\n",
        "      numbers1.append(value1*value3**(operation))\n",
        "    elif value2==3:\n",
        "      operation=-1\n",
        "      value3=r[2]\n",
        "      if not value3==0: \n",
        "        numbers1.append(value1*value3**(operation))\n",
        "\n",
        "df_final=pd.DataFrame({'Column1': sum1[:], 'Column2': numbers1[:]})\n",
        "#loading model\n",
        "print('Remember to have model.json and model.h5 in the same directiory as the code otherwise it work')\n",
        "# load json and create model\n",
        "json_file = open('model.json', 'r')\n",
        "loaded_model_json = json_file.read()\n",
        "json_file.close()\n",
        "loaded_model = model_from_json(loaded_model_json)\n",
        "# load weights into new model\n",
        "loaded_model.load_weights(\"model.h5\")\n",
        "print(\"Loaded model from disk\")\n",
        "\n",
        "\n",
        "X_train=df_final['Column1']\n",
        "Y_train=df_final['Column2']\n",
        "\n",
        "Y_train_unique=np.unique(Y_train)\n",
        "Y_correct=[]\n",
        "for z in Y_train:\n",
        "  for ind,y in enumerate(Y_train_unique):\n",
        "    if y==z:\n",
        "      #print(\"hit\")\n",
        "      Y_correct.append(ind)\n",
        "      break\n",
        "print('amount of data')\n",
        "print(len(Y_correct))\n",
        "\n",
        "Y_train_enc = keras.utils.to_categorical(Y_correct)\n",
        "print('next value should be 95')\n",
        "print(len(Y_train_enc[1]))\n",
        "X_train=X_train.values\n",
        "# print(X_train)\n",
        "# print(Y_train)\n",
        "oe = OrdinalEncoder()\n",
        "oe.fit(X_train.reshape(-1, 1))\n",
        "X_train_enc = oe.transform(X_train.reshape(-1, 1))\n",
        "number_classes = len(np.unique(numbers1))\n",
        "\n",
        "print(\"Welcome to stupidest AI ever written, yet (kinda) working.\")\n",
        "print(\"This AI is calculator and works with numbers up to intiger nine with plus/minus/multiply/divide/by\")\n",
        "print(\"This model has reached accurary of 66%\")\n",
        "print(\"Please input the first number\")\n",
        "x=str(input())\n",
        "if x==\"1\":\n",
        "  x='one'\n",
        "elif x==\"2\":\n",
        "  x=\"two\"\n",
        "elif x==\"3\":\n",
        "  x=\"three\"\n",
        "elif x==\"4\":\n",
        "  x=\"four\"\n",
        "elif x==\"5\":\n",
        "  x=\"five\"\n",
        "elif x==\"6\":\n",
        "  x=\"six\"\n",
        "elif x==\"7\":\n",
        "  x=\"seven\"\n",
        "elif x==\"8\":\n",
        "  x=\"eight\"\n",
        "elif x==\"9\":\n",
        "  x=\"nine\"\n",
        "x=x+\" \"\n",
        "print(\"Please input the operation\")\n",
        "y=str(input())\n",
        "if y==\"+\":\n",
        "  y='plus'\n",
        "elif y==\"-\":\n",
        "  y=\"minus\"\n",
        "elif y==\"*\":\n",
        "  y=\"multiply\"\n",
        "elif y==\"/\":\n",
        "  y=\"divide by\"\n",
        "y=y+\" \"\n",
        "print(\"Please input the second number\")\n",
        "z=str(input())\n",
        "if z==\"1\":\n",
        "  z='one'\n",
        "elif z==\"2\":\n",
        "  z=\"two\"\n",
        "elif z==\"3\":\n",
        "  z=\"three\"\n",
        "elif z==\"4\":\n",
        "  z=\"four\"\n",
        "elif z==\"5\":\n",
        "  z=\"five\"\n",
        "elif z==\"6\":\n",
        "  z=\"six\"\n",
        "elif z==\"7\":\n",
        "  z=\"seven\"\n",
        "elif z==\"8\":\n",
        "  z=\"eight\"\n",
        "elif z==\"9\":\n",
        "  z=\"nine\"\n",
        "z=z+' is equal to'\n",
        "stringinput=x+y+z\n",
        "print(stringinput)\n",
        "X_predict=np.array([stringinput])\n",
        "print(X_predict)\n",
        "X_predict=oe.transform(X_predict.reshape(-1, 1))\n",
        "result_argument=loaded_model.predict(X_predict)[0].argmax()\n",
        "Y_results=np.unique(Y_train)\n",
        "print(Y_results[result_argument])"
      ]
    },
    {
      "cell_type": "code",
      "execution_count": null,
      "metadata": {
        "id": "XU1YkayyKmHx"
      },
      "outputs": [],
      "source": [
        "# #this old version please ignore\n",
        "# #df\n",
        "# X_train=df[0]\n",
        "# Y_train=df[1]\n",
        "# #Y_train_enc=Y_train.values\n",
        "# #Y_train_enc=[eval(x) for x in Y_train]\n",
        "\n",
        "# X_train=X_train.values\n",
        "\n",
        "# print(X_train)\n",
        "# print(Y_train)\n",
        "# oe = OrdinalEncoder()\n",
        "# oe.fit(X_train.reshape(-1, 1))\n",
        "# X_train_enc = oe.transform(X_train.reshape(-1, 1))\n",
        "# number_classes = 10\n",
        "\n",
        "# Y_train_enc = keras.utils.to_categorical(Y_train, number_classes)\n",
        "# #X_train_enc=np.asarray(X_train_enc)\n",
        "# #Y_train_enc=np.asarray(Y_train_enc)\n",
        "# print(X_train_enc.shape[1])\n",
        "# print(Y_train_enc)\n",
        "# #print(X_train_enc.shape[1])\n",
        "\n",
        "# input_layer = keras.layers.Dense(10,input_dim=X_train_enc.shape[1], name=\"Input\",activation='relu')\n",
        "# output_layer = keras.layers.Dense(10, activation='softmax', name=\"Output\")\n",
        "# layer_list=[input_layer, output_layer]\n",
        "# model = keras.Sequential(layer_list)\n",
        "# model.summary()\n",
        "# model.compile(optimizer='sgd',loss='categorical_crossentropy',metrics=['accuracy'])"
      ]
    },
    {
      "cell_type": "code",
      "execution_count": null,
      "metadata": {
        "id": "69m2jR94L6ab"
      },
      "outputs": [],
      "source": [
        "# epochs =1500\n",
        "# history_of_model = model.fit(X_train_enc, Y_train_enc, epochs=epochs, verbose=True)#"
      ]
    },
    {
      "cell_type": "code",
      "execution_count": null,
      "metadata": {
        "colab": {
          "base_uri": "https://localhost:8080/"
        },
        "id": "BpZC5dK1hgVv",
        "outputId": "63e83781-939c-4587-d5c6-ecdb3361cc48"
      },
      "outputs": [
        {
          "output_type": "stream",
          "name": "stderr",
          "text": [
            "IOPub data rate exceeded.\n",
            "The notebook server will temporarily stop sending output\n",
            "to the client in order to avoid crashing it.\n",
            "To change this limit, set the config variable\n",
            "`--NotebookApp.iopub_data_rate_limit`.\n",
            "\n",
            "Current values:\n",
            "NotebookApp.iopub_data_rate_limit=1000000.0 (bytes/sec)\n",
            "NotebookApp.rate_limit_window=3.0 (secs)\n",
            "\n"
          ]
        },
        {
          "output_type": "stream",
          "name": "stdout",
          "text": [
            "95\n",
            "974869\n"
          ]
        }
      ],
      "source": [
        "#GENERATES DATA\n",
        "import itertools\n",
        "import random\n",
        "a=['zero ','one ', 'two ','three ','four ','five ','six ','seven ','eight ','nine ']\n",
        "b=['plus ','minus ','multiply ','divide by ' ]\n",
        "c=a\n",
        "\n",
        "k=[0,1,2,3,4,5,6,7,8,9]\n",
        "l=[+1,-1]\n",
        "m=k\n",
        "sum=[]\n",
        "numbers=[]\n",
        "# for i in range(0,1):\n",
        "#   for r in itertools.product(a,b,c): \n",
        "#     sum.append(r[0]+r[1]+r[2]+' is equal to')\n",
        "#   for r in itertools.product(k,l,m): \n",
        "#     numbers.append(r[0]+r[1]*r[2])\n",
        "for i in range(0,1000000):\n",
        "  d=random.choice(list(enumerate(a)))\n",
        "  e=random.choice(list(enumerate(b)))\n",
        "  f=random.choice(list(enumerate(c)))\n",
        "  string1=str(d[1])\n",
        "  string2=str(e[1])\n",
        "  string3=str(f[1])\n",
        "  if not (string2=='divide by ' and string3=='zero '):\n",
        "    sum.append(string1+string2+string3+'is equal to')#https://stackoverflow.com/questions/18794390/how-to-get-the-index-of-numpy-random-choice-python\n",
        "  value1=d[0]\n",
        "  value2=e[0]\n",
        "  if value2==0:\n",
        "    operation=1\n",
        "    value3=f[0]\n",
        "    numbers.append(value1+value3*(operation))\n",
        "  elif value2==1:\n",
        "    operation=-1\n",
        "    value3=f[0]\n",
        "    numbers.append(value1+value3*(operation))\n",
        "  elif value2==2:\n",
        "    operation=1\n",
        "    value3=f[0]\n",
        "    numbers.append(value1*value3**(operation))\n",
        "  elif value2==3:\n",
        "    operation=-1\n",
        "    value3=f[0]\n",
        "    if not value3==0: \n",
        "      numbers.append(value1*value3**(operation))\n",
        "\n",
        "\n",
        "print(sum)\n",
        "print(len(sum))\n",
        "print(numbers)\n",
        "print(len(np.unique(numbers))) #look https://www.w3schools.com/python/ref_func_round.asp\n",
        "print(len(numbers))\n",
        "df_2=pd.DataFrame({'Column1': sum[:], 'Column2': numbers[:]})\n",
        "df_2\n",
        "X_train=df_2['Column1']\n",
        "Y_train=df_2['Column2']\n",
        "X_train=X_train.values\n",
        "\n"
      ]
    },
    {
      "cell_type": "markdown",
      "metadata": {
        "id": "cPbifRC8IX2b"
      },
      "source": []
    },
    {
      "cell_type": "code",
      "execution_count": null,
      "metadata": {
        "id": "Vv_Nx5B1tkXu",
        "colab": {
          "base_uri": "https://localhost:8080/"
        },
        "outputId": "f31680d1-4b09-4edc-a34d-723b36d51774"
      },
      "outputs": [
        {
          "output_type": "stream",
          "name": "stdout",
          "text": [
            "487348\n",
            "487348\n",
            "95\n",
            "390\n",
            "487348\n"
          ]
        }
      ],
      "source": [
        "\n",
        "# sum=sum1\n",
        "# numbers=numbers1\n",
        "print(len(sum))\n",
        "print(len(numbers))\n",
        "print(len(np.unique(numbers)))  #number of output\n",
        "print(len(np.unique(sum)))#number of input\n",
        "print(len(X_train))"
      ]
    },
    {
      "cell_type": "code",
      "execution_count": null,
      "metadata": {
        "colab": {
          "base_uri": "https://localhost:8080/"
        },
        "id": "-PTx9Vne80iM",
        "outputId": "08386c7c-a23c-4b52-ef2d-6ef838f698f4"
      },
      "outputs": [
        {
          "output_type": "stream",
          "name": "stdout",
          "text": [
            "['five divide by six is equal to' 'two plus nine is equal to'\n",
            " 'seven minus eight is equal to' ... 'seven plus three is equal to'\n",
            " 'six divide by seven is equal to' 'seven multiply two is equal to']\n",
            "0          0.833333\n",
            "1         11.000000\n",
            "2         -1.000000\n",
            "3          2.000000\n",
            "4          1.142857\n",
            "            ...    \n",
            "487343    32.000000\n",
            "487344     9.000000\n",
            "487345    10.000000\n",
            "487346     0.857143\n",
            "487347    14.000000\n",
            "Name: Column2, Length: 487348, dtype: float64\n",
            "ilość danych\n",
            "487348\n",
            "487348\n",
            "1\n",
            "[[0. 0. 0. ... 0. 0. 0.]\n",
            " [0. 0. 0. ... 0. 0. 0.]\n",
            " [0. 0. 0. ... 0. 0. 0.]\n",
            " ...\n",
            " [0. 0. 0. ... 0. 0. 0.]\n",
            " [0. 0. 0. ... 0. 0. 0.]\n",
            " [0. 0. 0. ... 0. 0. 0.]]\n",
            "[[0. 0. 0. ... 0. 0. 0.]\n",
            " [0. 0. 0. ... 0. 0. 0.]\n",
            " [0. 0. 0. ... 0. 0. 0.]\n",
            " ...\n",
            " [0. 0. 0. ... 0. 0. 0.]\n",
            " [0. 0. 0. ... 0. 0. 0.]\n",
            " [0. 0. 0. ... 0. 0. 0.]]\n",
            "Model: \"sequential\"\n",
            "_________________________________________________________________\n",
            " Layer (type)                Output Shape              Param #   \n",
            "=================================================================\n",
            " Input (Dense)               (None, 1560)              3120      \n",
            "                                                                 \n",
            " Hidden_layer (Dense)        (None, 390)               608790    \n",
            "                                                                 \n",
            " Hidden_layer2 (Dense)       (None, 360)               140760    \n",
            "                                                                 \n",
            " Hidden_layer3 (Dense)       (None, 120)               43320     \n",
            "                                                                 \n",
            " Output (Dense)              (None, 95)                11495     \n",
            "                                                                 \n",
            "=================================================================\n",
            "Total params: 807,485\n",
            "Trainable params: 807,485\n",
            "Non-trainable params: 0\n",
            "_________________________________________________________________\n"
          ]
        }
      ],
      "source": [
        "from tensorflow.keras import regularizers\n",
        "#Y_train_enc=Y_train.values\n",
        "#Y_train_enc=[eval(x) for x in Y_train]\n",
        "\n",
        "\n",
        "print(X_train)\n",
        "print(Y_train)\n",
        "Y_train_unique=np.unique(Y_train)\n",
        "\n",
        "number_classes = len(np.unique(numbers))#how many cases in \n",
        "\n",
        "Y_correct=[]\n",
        "for z in Y_train:\n",
        "  for ind,y in enumerate(Y_train_unique):\n",
        "    if y==z:\n",
        "      #print(\"hit\")\n",
        "      Y_correct.append(ind)\n",
        "      break\n",
        "print('ilość danych')\n",
        "print(len(Y_correct))\n",
        "\n",
        "Y_train_enc = keras.utils.to_categorical(Y_correct)\n",
        "print(len(Y_train_enc))\n",
        "\n",
        "\n",
        "\n",
        "oe = OrdinalEncoder()\n",
        "oe.fit(X_train.reshape(-1, 1))\n",
        "X_train_enc = oe.transform(X_train.reshape(-1, 1))\n",
        "\n",
        "\n",
        "\n",
        "#X_train_enc=np.asarray(X_train_enc)\n",
        "#Y_train_enc=np.asarray(Y_train_enc)\n",
        "print(X_train_enc.shape[1])\n",
        "print(Y_train_enc)\n",
        "print(Y_train_enc)\n",
        "\n",
        "input_layer = keras.layers.Dense(1560,input_dim=X_train_enc.shape[1], name=\"Input\",activation='relu')\n",
        "hidden_layer = keras.layers.Dense(390, name=\"Hidden_layer\",activation='relu')#(input_layer)\n",
        "hidden_layer2 = keras.layers.Dense(360, name=\"Hidden_layer2\",activation='relu',kernel_regularizer=regularizers.L1L2(10e-6))#(hidden_layer)\n",
        "hidden_layer3 = keras.layers.Dense(120, name=\"Hidden_layer3\",activation='relu')#(hidden_layer2)\n",
        "output_layer = keras.layers.Dense(95, activation='softmax', name=\"Output\")#(hidden_layer3)\n",
        "#layer_list=[input_layer, output_layer]\n",
        "layer_list=[input_layer,hidden_layer,hidden_layer2,hidden_layer3,output_layer]\n",
        "model2 = keras.Sequential(layer_list)\n",
        "model2.summary()\n",
        "model2.compile(optimizer='adam',loss='categorical_crossentropy',metrics=['accuracy'])\n",
        "del Y_correct\n"
      ]
    },
    {
      "cell_type": "code",
      "execution_count": null,
      "metadata": {
        "id": "00qGGP0EFzxD"
      },
      "outputs": [],
      "source": [
        "import sys\n",
        "import numpy\n",
        "numpy.set_printoptions(threshold=5)\n",
        "# numpy.set_printoptions(threshold=sys.maxsize)\n",
        "# print(Y_train_enc)"
      ]
    },
    {
      "cell_type": "code",
      "execution_count": null,
      "metadata": {
        "id": "mZSVIvNL9cHP",
        "colab": {
          "base_uri": "https://localhost:8080/"
        },
        "outputId": "87c373a6-aa98-454f-fedb-0c82c01363aa"
      },
      "outputs": [
        {
          "output_type": "stream",
          "name": "stdout",
          "text": [
            "95\n",
            "Epoch 1/10\n",
            "15230/15230 [==============================] - 47s 3ms/step - loss: 2.2425 - accuracy: 0.3235\n",
            "Epoch 2/10\n",
            "15230/15230 [==============================] - 48s 3ms/step - loss: 2.2313 - accuracy: 0.3253\n",
            "Epoch 3/10\n",
            "15230/15230 [==============================] - 48s 3ms/step - loss: 2.2123 - accuracy: 0.3300\n",
            "Epoch 4/10\n",
            "15230/15230 [==============================] - 47s 3ms/step - loss: 2.1944 - accuracy: 0.3340\n",
            "Epoch 5/10\n",
            "15230/15230 [==============================] - 49s 3ms/step - loss: 2.1842 - accuracy: 0.3355\n",
            "Epoch 6/10\n",
            "15230/15230 [==============================] - 47s 3ms/step - loss: 2.1753 - accuracy: 0.3378\n",
            "Epoch 7/10\n",
            "15230/15230 [==============================] - 47s 3ms/step - loss: 2.1594 - accuracy: 0.3398\n",
            "Epoch 8/10\n",
            "15230/15230 [==============================] - 48s 3ms/step - loss: 2.1420 - accuracy: 0.3438\n",
            "Epoch 9/10\n",
            "15230/15230 [==============================] - 48s 3ms/step - loss: 2.1390 - accuracy: 0.3450\n",
            "Epoch 10/10\n",
            "15230/15230 [==============================] - 48s 3ms/step - loss: 2.1313 - accuracy: 0.3475\n"
          ]
        }
      ],
      "source": [
        "epochs=10\n",
        "print(len(Y_train_enc[0]))\n",
        "history_of_model = model2.fit(np.array(X_train_enc), np.array(Y_train_enc), epochs=epochs, verbose=True)#"
      ]
    },
    {
      "cell_type": "code",
      "execution_count": null,
      "metadata": {
        "id": "qE6wnhtff-Ic",
        "colab": {
          "base_uri": "https://localhost:8080/"
        },
        "outputId": "b057cada-cb78-4f07-c401-5821c6bd25f6"
      },
      "outputs": [
        {
          "output_type": "stream",
          "name": "stdout",
          "text": [
            "Saved model to disk\n"
          ]
        }
      ],
      "source": [
        "from tensorflow.keras.models import model_from_json\n",
        "# serialize model to JSON\n",
        "model_json = model2.to_json()\n",
        "with open(\"model_big.json\", \"w\") as json_file:\n",
        "    json_file.write(model_json)\n",
        "# serialize weights to HDF5\n",
        "model2.save_weights(\"model_big.h5\")\n",
        "print(\"Saved model to disk\")"
      ]
    },
    {
      "cell_type": "code",
      "execution_count": null,
      "metadata": {
        "id": "wmY6T8pnijzz"
      },
      "outputs": [],
      "source": [
        "\n",
        "print(Y_train)\n",
        "# indexes = np.unique(Y_train, return_index=True)[1]\n",
        "# Y_results= [Y_train[index] for index in sorted(indexes)]\n",
        "Y_results=np.unique(Y_train)\n",
        "print(Y_results)"
      ]
    },
    {
      "cell_type": "code",
      "execution_count": null,
      "metadata": {
        "id": "m1292jvGz164",
        "colab": {
          "base_uri": "https://localhost:8080/"
        },
        "outputId": "52e0362f-2de6-4e96-ae3f-49ab364286ca"
      },
      "outputs": [
        {
          "output_type": "stream",
          "name": "stdout",
          "text": [
            "Model: \"sequential_1\"\n",
            "_________________________________________________________________\n",
            " Layer (type)                Output Shape              Param #   \n",
            "=================================================================\n",
            " Input (Dense)               (None, 390)               780       \n",
            "                                                                 \n",
            " Hidden_layer (Dense)        (None, 1560)              609960    \n",
            "                                                                 \n",
            " Hidden_layer2 (Dense)       (None, 360)               561960    \n",
            "                                                                 \n",
            " Hidden_layer3 (Dense)       (None, 120)               43320     \n",
            "                                                                 \n",
            " Output (Dense)              (None, 95)                11495     \n",
            "                                                                 \n",
            "=================================================================\n",
            "Total params: 1,227,515\n",
            "Trainable params: 1,227,515\n",
            "Non-trainable params: 0\n",
            "_________________________________________________________________\n"
          ]
        }
      ],
      "source": [
        "loaded_model.summary()"
      ]
    },
    {
      "cell_type": "code",
      "execution_count": null,
      "metadata": {
        "colab": {
          "base_uri": "https://localhost:8080/"
        },
        "id": "PRBbqVdLszHc",
        "outputId": "c561967b-77ed-411c-bb8a-e12ef288de8c"
      },
      "outputs": [
        {
          "output_type": "stream",
          "name": "stdout",
          "text": [
            "importing kerass\n",
            "importing numpy\n",
            "Remember to have model.json and model.h5 in the same directiory as the code otherwise it work\n",
            "Loaded model from disk\n",
            "amount of data\n",
            "974869\n",
            "next value should be 95\n",
            "95\n"
          ]
        }
      ],
      "source": [
        "print(\"importing kerass\")\n",
        "from tensorflow.keras.models import model_from_json\n",
        "print(\"importing numpy\")\n",
        "import numpy as np\n",
        "print('Remember to have model.json and model.h5 in the same directiory as the code otherwise it work')\n",
        "# load json and create model\n",
        "json_file = open('model.json', 'r')\n",
        "loaded_model_json = json_file.read()\n",
        "json_file.close()\n",
        "loaded_model = model_from_json(loaded_model_json)\n",
        "# load weights into new model\n",
        "loaded_model.load_weights(\"model.h5\")\n",
        "print(\"Loaded model from disk\")\n",
        "\n",
        "\n",
        "X_train=df_2['Column1']\n",
        "Y_train=df_2['Column2']\n",
        "\n",
        "Y_train_unique=np.unique(Y_train)\n",
        "\n",
        "\n",
        "\n",
        "Y_correct=[]\n",
        "for z in Y_train:\n",
        "  for ind,y in enumerate(Y_train_unique):\n",
        "    if y==z:\n",
        "      #print(\"hit\")\n",
        "      Y_correct.append(ind)\n",
        "      break\n",
        "print('amount of data')\n",
        "print(len(Y_correct))\n",
        "\n",
        "Y_train_enc = keras.utils.to_categorical(Y_correct)\n",
        "print('next value should be 95')\n",
        "print(len(Y_train_enc[1]))\n",
        "X_train=X_train.values\n",
        "# print(X_train)\n",
        "# print(Y_train)\n",
        "oe = OrdinalEncoder()\n",
        "oe.fit(X_train.reshape(-1, 1))\n",
        "X_train_enc = oe.transform(X_train.reshape(-1, 1))\n",
        "number_classes = len(np.unique(numbers))#how many cases in \n",
        "\n"
      ]
    },
    {
      "cell_type": "code",
      "execution_count": null,
      "metadata": {
        "colab": {
          "base_uri": "https://localhost:8080/"
        },
        "id": "8KEw8qQ-hESX",
        "outputId": "5a9d1f04-fd3f-4009-815a-5e31de53dbba"
      },
      "outputs": [
        {
          "output_type": "stream",
          "name": "stdout",
          "text": [
            "Epoch 1/5\n",
            "30465/30465 [==============================] - 94s 3ms/step - loss: 1.7467 - accuracy: 0.4531\n",
            "Epoch 2/5\n",
            "30465/30465 [==============================] - 95s 3ms/step - loss: 1.7400 - accuracy: 0.4562\n",
            "Epoch 3/5\n",
            "30465/30465 [==============================] - 94s 3ms/step - loss: 1.7424 - accuracy: 0.4564\n",
            "Epoch 4/5\n",
            "30465/30465 [==============================] - 94s 3ms/step - loss: 1.7338 - accuracy: 0.4583\n",
            "Epoch 5/5\n",
            "30465/30465 [==============================] - 96s 3ms/step - loss: 1.7222 - accuracy: 0.4614\n"
          ]
        }
      ],
      "source": [
        "epochs=5\n",
        "loaded_model.compile(optimizer='adam',loss='categorical_crossentropy',metrics=['accuracy'])\n",
        "history_of_model = loaded_model.fit(X_train_enc, Y_train_enc, epochs=epochs, verbose=True)#\n",
        "\n"
      ]
    },
    {
      "cell_type": "code",
      "execution_count": null,
      "metadata": {
        "colab": {
          "base_uri": "https://localhost:8080/"
        },
        "id": "HX1Oc2b7vyJC",
        "outputId": "bd1c6691-51e8-448f-e0a8-fd2eed080635"
      },
      "outputs": [
        {
          "output_type": "stream",
          "name": "stdout",
          "text": [
            "Saved model to disk\n"
          ]
        }
      ],
      "source": [
        "from tensorflow.keras.models import model_from_json\n",
        "# serialize model to JSON\n",
        "model_json = loaded_model.to_json()\n",
        "\n",
        "with open(\"model.json\", \"w\") as json_file:\n",
        "    json_file.write(model_json)\n",
        "# serialize weights to HDF5\n",
        "loaded_model.save_weights(\"model.h5\")\n",
        "print(\"Saved model to disk\")"
      ]
    },
    {
      "cell_type": "code",
      "execution_count": null,
      "metadata": {
        "id": "CqrEC_76cTKB"
      },
      "outputs": [],
      "source": [
        "print(\"Welcome to stupidest AI ever written, yet (kinda) working.\")\n",
        "print(\"This AI is calculator and works with numbers up to intiger nine with plus/minus/multiply/divide/by\")\n",
        "print(\"This model has reached accurary of 66%\")\n",
        "print(\"Please input the first number\")\n",
        "x=str(input())\n",
        "if x==\"1\":\n",
        "  x='one'\n",
        "elif x==\"2\":\n",
        "  x=\"two\"\n",
        "elif x==\"3\":\n",
        "  x=\"three\"\n",
        "elif x==\"4\":\n",
        "  x=\"four\"\n",
        "elif x==\"5\":\n",
        "  x=\"five\"\n",
        "elif x==\"6\":\n",
        "  x=\"six\"\n",
        "elif x==\"7\":\n",
        "  x=\"seven\"\n",
        "elif x==\"8\":\n",
        "  x=\"eight\"\n",
        "elif x==\"9\":\n",
        "  x=\"nine\"\n",
        "x=x+\" \"\n",
        "print(\"Please input the operation\")\n",
        "y=str(input())\n",
        "if y==\"+\":\n",
        "  y='plus'\n",
        "elif y==\"-\":\n",
        "  y=\"minus\"\n",
        "elif y==\"*\":\n",
        "  y=\"multiply\"\n",
        "elif y==\"/\":\n",
        "  y=\"divide by\"\n",
        "y=y+\" \"\n",
        "print(\"Please input the second number\")\n",
        "z=str(input())\n",
        "if z==\"1\":\n",
        "  z='one'\n",
        "elif z==\"2\":\n",
        "  z=\"two\"\n",
        "elif z==\"3\":\n",
        "  z=\"three\"\n",
        "elif z==\"4\":\n",
        "  z=\"four\"\n",
        "elif z==\"5\":\n",
        "  z=\"five\"\n",
        "elif z==\"6\":\n",
        "  z=\"six\"\n",
        "elif z==\"7\":\n",
        "  z=\"seven\"\n",
        "elif z==\"8\":\n",
        "  z=\"eight\"\n",
        "elif z==\"9\":\n",
        "  z=\"nine\"\n",
        "z=z+' is equal to'\n",
        "stringinput=x+y+z\n",
        "print(stringinput)\n",
        "X_predict=np.array([stringinput])\n",
        "print(X_predict)\n",
        "X_predict=oe.transform(X_predict.reshape(-1, 1))\n",
        "result=loaded_model.predict(X_predict)[0].argmax()\n",
        "print(result)"
      ]
    },
    {
      "cell_type": "code",
      "execution_count": null,
      "metadata": {
        "id": "FKv0AWucJx_U"
      },
      "outputs": [],
      "source": [
        "\n",
        "X_predict=np.array(['four multiply three is equal to'])\n",
        "X_predict=oe.transform(X_predict.reshape(-1, 1))\n",
        "print(X_predict)\n",
        "loaded_model.predict(X_predict)\n",
        "#print(loaded_model.predict(X_predict)[0])\n",
        "print(loaded_model.predict(X_predict)[0].argmax())\n",
        "argument=loaded_model.predict(X_predict)[0].argmax()\n",
        "print(argument)\n",
        "print(Y_results[argument])\n",
        "\n"
      ]
    },
    {
      "cell_type": "code",
      "execution_count": null,
      "metadata": {
        "id": "Fyl5y9Lbz81v"
      },
      "outputs": [],
      "source": [
        "import itertools\n",
        "import random\n",
        "a=['zero ','one ', 'two ','three ','four ','five ','six ','seven ','eight ','nine ']\n",
        "b=['plus ','minus ','multiply ','divide by ' ]\n",
        "c=a\n",
        "k=[0,1,2,3,4,5,6,7,8,9]\n",
        "l=[0,1,2,3]\n",
        "m=k\n",
        "sum1=[]\n",
        "numbers1=[]\n",
        "for i in range(0,1):\n",
        "  for r in itertools.product(a,b,c):\n",
        "    if not (r[1]=='divide by ' and r[2]=='zero '):\n",
        "      sum1.append(r[0]+r[1]+r[2]+'is equal to')\n",
        "  for r in itertools.product(k,l,m): \n",
        "    value1=r[0]\n",
        "    value2=r[1]\n",
        "    if value2==0:\n",
        "      operation=1\n",
        "      value3=r[2]\n",
        "      numbers1.append(value1+value3*(operation))\n",
        "    elif value2==1:\n",
        "      operation=-1\n",
        "      value3=r[2]\n",
        "      numbers1.append(value1+value3*(operation))\n",
        "    elif value2==2:\n",
        "      operation=1\n",
        "      value3=r[2]\n",
        "      numbers1.append(value1*value3**(operation))\n",
        "    elif value2==3:\n",
        "      operation=-1\n",
        "      value3=r[2]\n",
        "      if not value3==0: \n",
        "        numbers1.append(value1*value3**(operation))\n",
        "\n",
        "    # if r[1]==11:\n",
        "    #   numbers1.append(r[0]+r[1]*r[2])\n",
        "    # if r[1]==1 and not r[2]==0:\n",
        "    #     numbers1.append(r[0]*r[1]**r[2])\n",
        "\n",
        "\n",
        "print(sum1)\n",
        "print(numbers1)\n",
        "print(len(np.unique(sum1)))\n",
        "print(len(np.unique(numbers1)))\n",
        "\n",
        "df_3=pd.DataFrame({'Column1': sum1[:], 'Column2': numbers1[:]})\n",
        "df_3\n"
      ]
    },
    {
      "cell_type": "code",
      "execution_count": null,
      "metadata": {
        "id": "H25KvbHe8Plq"
      },
      "outputs": [],
      "source": [
        "i=0\n",
        "Y_results=np.unique(Y_train)\n",
        "for r in sum1:\n",
        "  result_arg=0\n",
        "  result_Y=0\n",
        "  X_predict=np.array([r])\n",
        "  X_predict=oe.transform(X_predict.reshape(-1, 1))\n",
        "  #print(X_predict)\n",
        "  #loaded_model.predict(X_predict)\n",
        "  argument=loaded_model.predict(X_predict)[0].argmax()\n",
        "  print(r)\n",
        "  #print(argument)\n",
        "  print(Y_results[argument])\n",
        "  #print(loaded_model.predict(X_predict)[0])\n",
        "  # print(loaded_model.predict(X_predict)[0].argmax())\n",
        "  # if argument==numbers1[i]:\n",
        "  #   result_arg+=1\n",
        "  if Y_results[argument]==numbers1[i]:\n",
        "    result_Y+=1\n",
        "  i+=1\n",
        "  print(i)\n",
        "print(result_arg)\n",
        "print(result_Y)\n"
      ]
    }
  ],
  "metadata": {
    "accelerator": "GPU",
    "colab": {
      "provenance": []
    },
    "gpuClass": "standard",
    "kernelspec": {
      "display_name": "Python 3",
      "name": "python3"
    },
    "language_info": {
      "name": "python"
    }
  },
  "nbformat": 4,
  "nbformat_minor": 0
}